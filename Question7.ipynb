{
  "nbformat": 4,
  "nbformat_minor": 0,
  "metadata": {
    "colab": {
      "provenance": [],
      "authorship_tag": "ABX9TyMjfZxwGyXZeKuMHVDgkTBz",
      "include_colab_link": true
    },
    "kernelspec": {
      "name": "python3",
      "display_name": "Python 3"
    },
    "language_info": {
      "name": "python"
    }
  },
  "cells": [
    {
      "cell_type": "markdown",
      "metadata": {
        "id": "view-in-github",
        "colab_type": "text"
      },
      "source": [
        "<a href=\"https://colab.research.google.com/github/anushka10079/BA_Anushka/blob/main/Question7.ipynb\" target=\"_parent\"><img src=\"https://colab.research.google.com/assets/colab-badge.svg\" alt=\"Open In Colab\"/></a>"
      ]
    },
    {
      "cell_type": "code",
      "execution_count": 1,
      "metadata": {
        "colab": {
          "base_uri": "https://localhost:8080/"
        },
        "id": "v_IwoGhBsTY-",
        "outputId": "cacf8ba9-5a05-475a-ffb0-9fc4990e074e"
      },
      "outputs": [
        {
          "output_type": "stream",
          "name": "stdout",
          "text": [
            "Volume with the 10th smallest ratio: 1\n"
          ]
        }
      ],
      "source": [
        "import pandas as pd\n",
        "\n",
        "# Load dataset and parse Date/Time\n",
        "df = pd.read_csv('https://raw.githubusercontent.com/anushka10079/BA_Anushka/refs/heads/main/Dataset.csv', parse_dates=['Date/Time'])\n",
        "\n",
        "# Filter for \"PNJ\" ticker and make a copy to avoid SettingWithCopyWarning\n",
        "pnj_data = df[df['Ticker'] == 'PNJ'].copy()\n",
        "\n",
        "# Calculate the 3rd lagged autocorrelation of Volume for the entire column\n",
        "volume_lag3_ac = pnj_data['Volume'].autocorr(lag=3)\n",
        "\n",
        "# Add the calculated autocorrelation as a constant column\n",
        "pnj_data['Volume_lag3_ac'] = volume_lag3_ac\n",
        "\n",
        "# Calculate the ratio of Volume to the 3rd lagged autocorrelation\n",
        "pnj_data['Ratio'] = pnj_data['Volume'] / pnj_data['Volume_lag3_ac']\n",
        "\n",
        "# Sort by the ratio and get the Volume with the 10th smallest ratio\n",
        "tenth_smallest_ratio_volume = pnj_data.nsmallest(10, 'Ratio').iloc[-1]['Volume']\n",
        "\n",
        "print(\"Volume with the 10th smallest ratio:\", tenth_smallest_ratio_volume)\n"
      ]
    }
  ]
}