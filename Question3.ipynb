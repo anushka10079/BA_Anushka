{
  "nbformat": 4,
  "nbformat_minor": 0,
  "metadata": {
    "colab": {
      "provenance": [],
      "authorship_tag": "ABX9TyOTi2XktmYoSpgs/DaVBKSf",
      "include_colab_link": true
    },
    "kernelspec": {
      "name": "python3",
      "display_name": "Python 3"
    },
    "language_info": {
      "name": "python"
    }
  },
  "cells": [
    {
      "cell_type": "markdown",
      "metadata": {
        "id": "view-in-github",
        "colab_type": "text"
      },
      "source": [
        "<a href=\"https://colab.research.google.com/github/anushka10079/BA_Anushka/blob/main/Question3.ipynb\" target=\"_parent\"><img src=\"https://colab.research.google.com/assets/colab-badge.svg\" alt=\"Open In Colab\"/></a>"
      ]
    },
    {
      "cell_type": "code",
      "execution_count": 1,
      "metadata": {
        "colab": {
          "base_uri": "https://localhost:8080/"
        },
        "id": "8szvVU7Hn3Ur",
        "outputId": "ea2d9ab7-ca85-41e7-c63e-6fe70ab95f5e"
      },
      "outputs": [
        {
          "output_type": "stream",
          "name": "stdout",
          "text": [
            "Performance Counts: Performance\n",
            "POSITIVE    22\n",
            "NEGATIVE     6\n",
            "NEUTRAL      0\n",
            "Name: count, dtype: int64\n",
            "Performance Percentages: Performance\n",
            "POSITIVE    78.571429\n",
            "NEGATIVE    21.428571\n",
            "NEUTRAL      0.000000\n",
            "Name: count, dtype: float64\n"
          ]
        }
      ],
      "source": [
        "import pandas as pd\n",
        "\n",
        "# Load the dataset and parse Date/Time\n",
        "df = pd.read_csv('https://raw.githubusercontent.com/anushka10079/BA_Anushka/refs/heads/main/Dataset.csv', parse_dates=['Date/Time'])\n",
        "\n",
        "# Filter for \"PNJ\" ticker and calculate return\n",
        "pnj_data = df[df['Ticker'] == 'PNJ'].copy()  # Use .copy() to avoid SettingWithCopyWarning\n",
        "pnj_data['Return'] = pnj_data['Close'].pct_change() * 100\n",
        "\n",
        "# Create Performance column with NEGATIVE, POSITIVE, and NEUTRAL categories\n",
        "pnj_data['Performance'] = pd.cut(\n",
        "    pnj_data['Return'],\n",
        "    bins=[-float(\"inf\"), 0, float(\"inf\")],\n",
        "    labels=[\"NEGATIVE\", \"POSITIVE\"],\n",
        "    right=False\n",
        ").astype('category')  # Convert to categorical type\n",
        "\n",
        "# Replace NaN values with \"NEUTRAL\" in the Performance column\n",
        "pnj_data['Performance'] = pnj_data['Performance'].cat.add_categories(\"NEUTRAL\").fillna(\"NEUTRAL\")\n",
        "\n",
        "# Filter for specific time range on March 1, 2018\n",
        "pnj_data['Date'] = pnj_data['Date/Time'].dt.date\n",
        "pnj_data['Time'] = pnj_data['Date/Time'].dt.time\n",
        "filtered_data = pnj_data[\n",
        "    (pnj_data['Date'] == pd.to_datetime('2018-03-01').date()) &\n",
        "    (pnj_data['Time'] >= pd.to_datetime('10:50:00').time()) &\n",
        "    (pnj_data['Time'] <= pd.to_datetime('13:05:00').time())\n",
        "]\n",
        "\n",
        "# Count and calculate performance categories\n",
        "performance_counts = filtered_data['Performance'].value_counts()\n",
        "total_count = performance_counts.sum()\n",
        "performance_percentages = (performance_counts / total_count) * 100\n",
        "\n",
        "print(\"Performance Counts:\", performance_counts)\n",
        "print(\"Performance Percentages:\", performance_percentages)\n"
      ]
    }
  ]
}