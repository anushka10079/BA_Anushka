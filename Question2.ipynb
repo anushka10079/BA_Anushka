{
  "nbformat": 4,
  "nbformat_minor": 0,
  "metadata": {
    "colab": {
      "provenance": [],
      "authorship_tag": "ABX9TyOzn4TZd0LnEDRtLJRGT+qo",
      "include_colab_link": true
    },
    "kernelspec": {
      "name": "python3",
      "display_name": "Python 3"
    },
    "language_info": {
      "name": "python"
    }
  },
  "cells": [
    {
      "cell_type": "markdown",
      "metadata": {
        "id": "view-in-github",
        "colab_type": "text"
      },
      "source": [
        "<a href=\"https://colab.research.google.com/github/anushka10079/BA_Anushka/blob/main/Question2.ipynb\" target=\"_parent\"><img src=\"https://colab.research.google.com/assets/colab-badge.svg\" alt=\"Open In Colab\"/></a>"
      ]
    },
    {
      "cell_type": "code",
      "execution_count": 2,
      "metadata": {
        "colab": {
          "base_uri": "https://localhost:8080/"
        },
        "id": "fVpJbRmvTHmW",
        "outputId": "d009beea-c352-4564-815a-8bdaffad227e"
      },
      "outputs": [
        {
          "output_type": "stream",
          "name": "stdout",
          "text": [
            "Year with minimum ratio of highest to lowest average monthly return for MSN Ticker: 2020\n"
          ]
        }
      ],
      "source": [
        "import pandas as pd\n",
        "\n",
        "# Load dataset and parse Date/Time\n",
        "df = pd.read_csv(\"https://raw.githubusercontent.com/anushka10079/BA_Anushka/refs/heads/main/Dataset.csv\", parse_dates=['Date/Time'])\n",
        "\n",
        "# Filter for \"MSN\" ticker\n",
        "msn_data = df[df['Ticker'] == 'MSN'].copy()  # Use .copy() to avoid SettingWithCopyWarning\n",
        "\n",
        "# Create MonthYear column and calculate monthly return\n",
        "msn_data['MonthYear'] = msn_data['Date/Time'].dt.to_period('M')\n",
        "msn_data['MonthlyReturn'] = msn_data.groupby('MonthYear')['Close'].transform(lambda x: x.pct_change().mean())\n",
        "\n",
        "# Calculate min/max monthly return ratio for each year\n",
        "yearly_ratio = msn_data.groupby(msn_data['Date/Time'].dt.year)['MonthlyReturn'].agg(['min', 'max'])\n",
        "yearly_ratio['Ratio'] = yearly_ratio['max'] / yearly_ratio['min']\n",
        "\n",
        "# Find the year with the minimum ratio\n",
        "min_ratio_year = yearly_ratio['Ratio'].idxmin()\n",
        "\n",
        "print(\"Year with minimum ratio of highest to lowest average monthly return for MSN Ticker:\", min_ratio_year)\n"
      ]
    }
  ]
}