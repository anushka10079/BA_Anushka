{
  "nbformat": 4,
  "nbformat_minor": 0,
  "metadata": {
    "colab": {
      "provenance": [],
      "authorship_tag": "ABX9TyOWnCPAb721O19VW9dXyiC7",
      "include_colab_link": true
    },
    "kernelspec": {
      "name": "python3",
      "display_name": "Python 3"
    },
    "language_info": {
      "name": "python"
    }
  },
  "cells": [
    {
      "cell_type": "markdown",
      "metadata": {
        "id": "view-in-github",
        "colab_type": "text"
      },
      "source": [
        "<a href=\"https://colab.research.google.com/github/anushka10079/BA_Anushka/blob/main/Question8.ipynb\" target=\"_parent\"><img src=\"https://colab.research.google.com/assets/colab-badge.svg\" alt=\"Open In Colab\"/></a>"
      ]
    },
    {
      "cell_type": "code",
      "execution_count": 1,
      "metadata": {
        "colab": {
          "base_uri": "https://localhost:8080/"
        },
        "id": "2Ksmq0iLtCpR",
        "outputId": "ddf867da-8a3e-4d20-a8f0-50f41c9d77b6"
      },
      "outputs": [
        {
          "output_type": "stream",
          "name": "stdout",
          "text": [
            "Average ratio: 0.000201\n"
          ]
        },
        {
          "output_type": "stream",
          "name": "stderr",
          "text": [
            "<ipython-input-1-1099dfef9059>:9: SettingWithCopyWarning: \n",
            "A value is trying to be set on a copy of a slice from a DataFrame.\n",
            "Try using .loc[row_indexer,col_indexer] = value instead\n",
            "\n",
            "See the caveats in the documentation: https://pandas.pydata.org/pandas-docs/stable/user_guide/indexing.html#returning-a-view-versus-a-copy\n",
            "  ticker_data['Ratio'] = (ticker_data['Volume'] - ticker_data['Volume'].shift(2)) / (ticker_data['Volume'] + ticker_data['Volume'].shift(2))\n"
          ]
        }
      ],
      "source": [
        "import pandas as pd\n",
        "\n",
        "# Load dataset and select data for chosen ticker on Wednesdays\n",
        "df = pd.read_csv('https://raw.githubusercontent.com/anushka10079/BA_Anushka/refs/heads/main/Dataset.csv', parse_dates=['Date/Time'])\n",
        "df['Day'] = df['Date/Time'].dt.day_name()\n",
        "\n",
        "ticker_data = df[(df['Ticker'] == 'MSN') & (df['Day'] == 'Wednesday')]\n",
        "\n",
        "ticker_data['Ratio'] = (ticker_data['Volume'] - ticker_data['Volume'].shift(2)) / (ticker_data['Volume'] + ticker_data['Volume'].shift(2))\n",
        "average_ratio = ticker_data['Ratio'].mean().round(6)\n",
        "\n",
        "print(\"Average ratio:\", average_ratio)"
      ]
    }
  ]
}